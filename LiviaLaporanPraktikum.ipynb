{
 "cells": [
  {
   "cell_type": "markdown",
   "metadata": {},
   "source": [
    "<h1>Praktikum Variabel & Tipe Data</h1>\n",
    "\n",
    "<h3>Soal 1</h3>\n",
    "Kiki belanja ke alf$$a M$a$r$t membeli 3 hepitos, 2 silperkuin, telor 2kg, beras 5kg, isi ulang akua galon seharga Rp 13.000. Harga hepitos yaitu Rp 15.000, telor Rp 13.000/kg, silperkuin Rp 21.000 beras kemasan 2.5kg seharga Rp 20.000. Toko tersebut memberikan discount 5%, ketika customer membeli makanan lebih dari 3 jenis. Berapakah total bayar belanjaan dari Kiki?\n"
   ]
  },
  {
   "cell_type": "markdown",
   "metadata": {},
   "source": [
    "<h1>Analyze Here</h1>\n",
    "....."
   ]
  },
  {
   "cell_type": "code",
   "execution_count": 1,
   "metadata": {},
   "outputs": [
    {
     "name": "stdout",
     "output_type": "stream",
     "text": [
      "total belanjaan kiki = 166000\n",
      "total diskonnya =  8300.0\n",
      "setelah di dikskon =  157700.0\n"
     ]
    }
   ],
   "source": [
    "#Code here\n",
    "hepitos = 15000\n",
    "silperkuin = 21000\n",
    "telor = 13000\n",
    "beras2_5 = 20000\n",
    "akuagalon = 13000\n",
    "belanjaankiki = (3*hepitos) + (2*silperkuin) + (2*telor) + (2*beras2_5) + akuagalon\n",
    "diskon = belanjaankiki * 0.05\n",
    "totalsetelahdiskon = belanjaankiki - diskon\n",
    "print(\"total belanjaan kiki =\",belanjaankiki)\n",
    "print(\"total diskonnya = \", diskon)\n",
    "print(\"setelah di dikskon = \",totalsetelahdiskon)"
   ]
  },
  {
   "cell_type": "markdown",
   "metadata": {},
   "source": [
    "<h3>Soal 2</h3>\n",
    "Roni menabung pada bulan agustus yaitu setiap tanggal ganjil sejumlah Rp 50.000, setiap tanggal genap sejumlah RP 10.000 dan setiap tanggal kelipatan 5 sejumlah Rp 5.000, Berapakah total tabungan Roni diakhir bulan?"
   ]
  },
  {
   "cell_type": "markdown",
   "metadata": {},
   "source": [
    "<h1>Analyze Here</h1>\n",
    "....."
   ]
  },
  {
   "cell_type": "code",
   "execution_count": 1,
   "metadata": {},
   "outputs": [
    {
     "name": "stdout",
     "output_type": "stream",
     "text": [
      "====Analisa awal====\n",
      "\n",
      "jumlah tanggal ganjil 16 - 3 tanggal kelipatan 5 jadi 13 x 50000 =   650000\n",
      "jumlah tanggal genap 15 - 3 tanggal kelipatan 5 jadi 12 x 10000 =  120000\n",
      "jumlah kelipatan tanggal kelipatan 5 ada 6 jadi 6 x 5000 =  30000\n",
      "jadi jumlah tabungan Roni perbulannya adalah Rp. 800000\n",
      "\n",
      "==Setelah menggunakan perulangan==\n",
      "\n",
      "Jadi jumlah tabungan Roni adalah Rp. 800000\n"
     ]
    }
   ],
   "source": [
    "#Code here\n",
    "print(\"====Analisa awal====\\n\")\n",
    "ganjil = 50000\n",
    "genap = 10000\n",
    "kelipatan = 5000\n",
    "jumlah_ganjil = 13 * ganjil\n",
    "jumlah_genap = 12 * genap\n",
    "jumlah_kelipatan = 6 * kelipatan\n",
    "jumlah_perbulan = jumlah_ganjil + jumlah_genap + jumlah_kelipatan\n",
    "print(\"jumlah tanggal ganjil 16 - 3 tanggal kelipatan 5 jadi 13 x 50000 =  \",jumlah_ganjil)\n",
    "print(\"jumlah tanggal genap 15 - 3 tanggal kelipatan 5 jadi 12 x 10000 = \",jumlah_genap)\n",
    "print(\"jumlah kelipatan tanggal kelipatan 5 ada 6 jadi 6 x 5000 = \",jumlah_kelipatan)\n",
    "print(\"jadi jumlah tabungan Roni perbulannya adalah Rp.\",jumlah_perbulan)\n",
    "\n",
    "print(\"\\n==Setelah menggunakan perulangan==\\n\")\n",
    "\n",
    "hari = 31\n",
    "tabungan = 0\n",
    "\n",
    "tanggal = 1\n",
    "while(tanggal <= hari):\n",
    "    \n",
    "    if(tanggal % 5 == 0):\n",
    "     tabungan += 5000\n",
    " \n",
    "    elif(tanggal % 2 != 0):\n",
    "      tabungan += 50000\n",
    "    \n",
    "    else:\n",
    "      tabungan += 10000\n",
    "    \n",
    "    tanggal += 1\n",
    "print(\"Jadi jumlah tabungan Roni adalah Rp.\",tabungan) \n"
   ]
  },
  {
   "cell_type": "markdown",
   "metadata": {},
   "source": [
    "<h3>Soal 3</h3>\n",
    "Saat hari raya, Deni ingin menukarkan uang sejumlah Rp 5.000.000 ke pecahan 20rb, 10rb, 5rb, 2rb. berapa jumlahnya yang didapatkan Deni jika 20rb maksimal 100, 10rb maksimal 50.Jika :\n",
    "<ol>\n",
    "    <li>3(a)Semua pecahan harus ada</li>\n",
    "    <li>3(b)Hanya pecahan 20rb, 10rb dan 5rb</li>\n",
    "    <li>3(c)Hanya pecahan 20rb, 10rb dan 2rb</li>\n",
    "</ol>"
   ]
  },
  {
   "cell_type": "markdown",
   "metadata": {},
   "source": [
    "<h1>Analyze Here</h1>\n",
    "....."
   ]
  },
  {
   "cell_type": "code",
   "execution_count": 4,
   "metadata": {},
   "outputs": [
    {
     "name": "stdout",
     "output_type": "stream",
     "text": [
      "Semua pecahan ada\n",
      "=================================\n",
      "100 lembar 20 rbu = 2000000\n",
      "50 lembar 10 rbu =  500000\n",
      "400 lembar 5 rbu =  2000000\n",
      "250 lembar 2 rbu =  500000\n",
      "totalnya adalah 5000000\n",
      "\n",
      "\n",
      "Hanya pecahan 20rb, 10rb dan 5rb\n",
      "=================================\n",
      "100 lembar 20 rbu = 2000000\n",
      "50 lembar 10 rbu  = 500000\n",
      "500 lembar 5 rbu  = 2500000\n",
      "totalnya adalah 5000000\n",
      "\n",
      "\n",
      "Hanya pecahan 20rb, 10rb dan 2rb\n",
      "=================================\n",
      "100 lembar 20 rbu = 2000000\n",
      "50 lembar 10 rbu  = 500000\n",
      "1250 lembar 2 rbu = 2500000\n",
      "totalnya adalah 5000000\n"
     ]
    }
   ],
   "source": [
    "#Code here\n",
    "rp_20 = 20_000 * 100\n",
    "rp_10 = 10_000 * 50\n",
    "rp_5  = 5000 * 400\n",
    "rp_2  = 2000 * 250\n",
    "jumlah_3_a = rp_20 + rp_10 + rp_5 + rp_2\n",
    "\n",
    "print(\"Semua pecahan ada\")\n",
    "print(\"=================================\")\n",
    "print(\"100 lembar 20 rbu =\",rp_20)\n",
    "print(\"50 lembar 10 rbu = \",rp_10)\n",
    "print(\"400 lembar 5 rbu = \",rp_5)\n",
    "print(\"250 lembar 2 rbu = \",rp_2)\n",
    "print(\"totalnya adalah\",jumlah_3_a)\n",
    "\n",
    "print('\\n')\n",
    "\n",
    "rp_5_2  = 5000 * 500\n",
    "jumlah_3_b = rp_20 + rp_10 + rp_5_2\n",
    "print(\"Hanya pecahan 20rb, 10rb dan 5rb\")\n",
    "print(\"=================================\")\n",
    "print(\"100 lembar 20 rbu =\",rp_20)\n",
    "print(\"50 lembar 10 rbu  =\",rp_10)\n",
    "print(\"500 lembar 5 rbu  =\",rp_5_2)\n",
    "print(\"totalnya adalah\",jumlah_3_b)\n",
    "\n",
    "print('\\n')\n",
    "\n",
    "rp_2_2  = 2000 * 1250\n",
    "jumlah_3_c = rp_20 + rp_10 + rp_2_2\n",
    "print(\"Hanya pecahan 20rb, 10rb dan 2rb\")\n",
    "print(\"=================================\")\n",
    "print(\"100 lembar 20 rbu =\",rp_20)\n",
    "print(\"50 lembar 10 rbu  =\",rp_10)\n",
    "print(\"1250 lembar 2 rbu =\",rp_2_2)\n",
    "print(\"totalnya adalah\",jumlah_3_c)\n"
   ]
  },
  {
   "cell_type": "markdown",
   "metadata": {},
   "source": [
    "<h3>Soal 4</h3>\n",
    "Berapakah hasil dari (10/23-6+4-(20//3%2)) ?\n",
    "Lakukan analisa perhitungan dari hasil tersebut!\n",
    "Berdasarkan hasil tersebut urutkan operator yang dikerjakan!"
   ]
  },
  {
   "cell_type": "markdown",
   "metadata": {},
   "source": [
    "<h1>Analyze Here</h1>\n",
    "....."
   ]
  },
  {
   "cell_type": "code",
   "execution_count": 3,
   "metadata": {},
   "outputs": [
    {
     "name": "stdout",
     "output_type": "stream",
     "text": [
      "hasil dari (10/23-6+4-(20//3%2) = -1.5652173913043477\n",
      "\n",
      "Hasil analisa\n",
      "=================================================================================\n",
      "1. terdapat operator bagi dan kurang = 10/23-6 = -5.565217391304348\n",
      "2. terdapat operator pembaian dibulatkan dan sisa bagi = 4 - (20 // 3 % 2) = 4\n",
      "hasil setelah ditambahkan adalah = -1.5652173913043477\n"
     ]
    }
   ],
   "source": [
    "#Code here\n",
    "hasil = (10/23-6+4-(20//3%2))\n",
    "print(\"hasil dari (10/23-6+4-(20//3%2) =\",hasil)\n",
    "print(\"\\nHasil analisa\")\n",
    "\n",
    "print('=================================================================================')\n",
    "\n",
    "operator_bagi_kurang = 10/23-6\n",
    "operator_bagi_sisabagi = 4 - (20 // 3 % 2)\n",
    "print(\"1. terdapat operator bagi dan kurang = 10/23-6 =\",operator_bagi_kurang)\n",
    "print(\"2. terdapat operator pembaian dibulatkan dan sisa bagi = 4 - (20 // 3 % 2) =\",operator_bagi_sisabagi)\n",
    "print(\"hasil setelah ditambahkan adalah =\",operator_bagi_kurang + operator_bagi_sisabagi)"
   ]
  },
  {
   "cell_type": "markdown",
   "metadata": {},
   "source": [
    "<h3>Soal 5</h3>\n",
    "Jika terdapat string yaitu \"UFLOPYXTKJACSWRBGQZVDMEHIN\", maka susunlah nama kalian masing-masing dari data tersebut, berdasarkan index dari masing-masing huruf yang ada pada string tersebut!\n"
   ]
  },
  {
   "cell_type": "markdown",
   "metadata": {},
   "source": [
    "<h1>Analyze Here</h1>\n",
    "....."
   ]
  },
  {
   "cell_type": "code",
   "execution_count": 5,
   "metadata": {},
   "outputs": [
    {
     "name": "stdout",
     "output_type": "stream",
     "text": [
      "LIVIA ADITRIA\n"
     ]
    }
   ],
   "source": [
    "huruf = \"UFLOPYXTKJACSWRBGQZVDMEHIN\"\n",
    "\n",
    "print(huruf[2]+huruf[24]+huruf[19]+huruf[24]+huruf[10],huruf[10]+huruf[20]+huruf[24]+huruf[7]+huruf[14]+huruf[24]+huruf[10])"
   ]
  }
 ],
 "metadata": {
  "kernelspec": {
   "display_name": "Python 3 (ipykernel)",
   "language": "python",
   "name": "python3"
  },
  "language_info": {
   "codemirror_mode": {
    "name": "ipython",
    "version": 3
   },
   "file_extension": ".py",
   "mimetype": "text/x-python",
   "name": "python",
   "nbconvert_exporter": "python",
   "pygments_lexer": "ipython3",
   "version": "3.9.12"
  }
 },
 "nbformat": 4,
 "nbformat_minor": 4
}
